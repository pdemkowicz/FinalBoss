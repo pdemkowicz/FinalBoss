{
 "cells": [
  {
   "cell_type": "code",
   "execution_count": 1,
   "metadata": {},
   "outputs": [],
   "source": [
    "import pywikibot\n",
    "import numpy"
   ]
  },
  {
   "cell_type": "code",
   "execution_count": 8,
   "metadata": {
    "scrolled": true
   },
   "outputs": [],
   "source": [
    "import re"
   ]
  },
  {
   "cell_type": "code",
   "execution_count": 18,
   "metadata": {},
   "outputs": [
    {
     "name": "stdout",
     "output_type": "stream",
     "text": [
      "<http.client.HTTPResponse object at 0x10e534cf8>\n"
     ]
    }
   ],
   "source": [
    "from urllib.request import urlopen\n",
    "html = urlopen(\"http://www.google.com/\")\n",
    "print(html)"
   ]
  },
  {
   "cell_type": "code",
   "execution_count": 31,
   "metadata": {},
   "outputs": [],
   "source": [
    "from urllib.request import urlopen\n",
    "import re\n",
    "\n",
    "def GetRevisions(pageTitle):\n",
    "    url = \"https://en.wikipedia.org/w/api.php?action=query&format=xml&prop=revisions&rvlimit=500&titles=\" + pageTitle\n",
    "    revisions = []                                        #list of all accumulated revisions\n",
    "    next = ''      \n",
    "    print(url)\n",
    "    while True:\n",
    "        response = urlopen(url + next).read()     #web request\n",
    "        revisions += re.findall('<rev [^>]*>', response)  #adds all revisions from the current request to the list"
   ]
  },
  {
   "cell_type": "code",
   "execution_count": 32,
   "metadata": {
    "scrolled": true
   },
   "outputs": [
    {
     "name": "stdout",
     "output_type": "stream",
     "text": [
      "https://en.wikipedia.org/w/api.php?action=query&format=xml&prop=revisions&rvlimit=500&titles=Apple_Inc.\n",
      "None\n"
     ]
    }
   ],
   "source": [
    "print(GetRevisions('Apple_Inc.'))"
   ]
  },
  {
   "cell_type": "code",
   "execution_count": 21,
   "metadata": {},
   "outputs": [],
   "source": [
    "from urllib.request import urlopen\n",
    "import re\n",
    "\n",
    "def GetRevisions1(pageTitle):\n",
    "    url = \"https://en.wikipedia.org/w/api.php?action=query&format=xml&prop=revisions&rvlimit=500&titles=\" + pageTitle\n",
    "    revisions = []                                        #list of all accumulated revisions\n",
    "    next = ''                                             #information for the next request\n",
    "    while True:\n",
    "        response = urlopen(url + next).read()     #web request\n",
    "        revisions += re.findall('<rev [^>]*>', response)  #adds all revisions from the current request to the list\n",
    "\n",
    "        cont = re.search('<continue rvcontinue=\"([^\"]+)\"', response)\n",
    "        if not cont:                                      #break the loop if 'continue' element missing\n",
    "            break\n",
    "\n",
    "        next = \"&rvcontinue=\" + cont.group(1)             #gets the revision Id from which to start the next request\n",
    "\n",
    "    return revisions;"
   ]
  }
 ],
 "metadata": {
  "kernelspec": {
   "display_name": "Python 3",
   "language": "python",
   "name": "python3"
  },
  "language_info": {
   "codemirror_mode": {
    "name": "ipython",
    "version": 3
   },
   "file_extension": ".py",
   "mimetype": "text/x-python",
   "name": "python",
   "nbconvert_exporter": "python",
   "pygments_lexer": "ipython3",
   "version": "3.6.4"
  }
 },
 "nbformat": 4,
 "nbformat_minor": 2
}
